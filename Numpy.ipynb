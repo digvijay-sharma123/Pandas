{
  "nbformat": 4,
  "nbformat_minor": 0,
  "metadata": {
    "colab": {
      "provenance": [],
      "authorship_tag": "ABX9TyPqBfD7UNZi7fnbdhD2DEu2",
      "include_colab_link": true
    },
    "kernelspec": {
      "name": "python3",
      "display_name": "Python 3"
    },
    "language_info": {
      "name": "python"
    }
  },
  "cells": [
    {
      "cell_type": "markdown",
      "metadata": {
        "id": "view-in-github",
        "colab_type": "text"
      },
      "source": [
        "<a href=\"https://colab.research.google.com/github/digvijay-sharma123/Pandas/blob/main/Numpy.ipynb\" target=\"_parent\"><img src=\"https://colab.research.google.com/assets/colab-badge.svg\" alt=\"Open In Colab\"/></a>"
      ]
    },
    {
      "cell_type": "code",
      "execution_count": null,
      "metadata": {
        "id": "1p8B6wBLWhxc"
      },
      "outputs": [],
      "source": [
        "import numpy as np"
      ]
    },
    {
      "cell_type": "code",
      "source": [
        "arr_1d = np.array([1,2,4])\n",
        "print(arr_1d)"
      ],
      "metadata": {
        "colab": {
          "base_uri": "https://localhost:8080/"
        },
        "id": "-WrYGBt0a6im",
        "outputId": "7de031da-3ff4-43d2-c81a-38ba88b856d1"
      },
      "execution_count": null,
      "outputs": [
        {
          "output_type": "stream",
          "name": "stdout",
          "text": [
            "[1 2 4]\n"
          ]
        }
      ]
    },
    {
      "cell_type": "code",
      "source": [
        "arr_2d = np.array([[1,2,3,4],[3,6,2,9]])\n",
        "print(arr_2d)"
      ],
      "metadata": {
        "colab": {
          "base_uri": "https://localhost:8080/"
        },
        "id": "dQ3ncGIQbIXH",
        "outputId": "39de3e54-b20e-4e14-ded0-24cb23146277"
      },
      "execution_count": null,
      "outputs": [
        {
          "output_type": "stream",
          "name": "stdout",
          "text": [
            "[[1 2 3 4]\n",
            " [3 6 2 9]]\n"
          ]
        }
      ]
    },
    {
      "cell_type": "code",
      "source": [
        "py_list = [1,2,3]\n",
        "print(\"python list multiplication\",py_list*2)"
      ],
      "metadata": {
        "colab": {
          "base_uri": "https://localhost:8080/"
        },
        "id": "YOqlwulScUWf",
        "outputId": "5704aa3b-00b1-4bd6-8ba4-eb6b533655e9"
      },
      "execution_count": null,
      "outputs": [
        {
          "output_type": "stream",
          "name": "stdout",
          "text": [
            "python list multiplication [1, 2, 3, 1, 2, 3]\n"
          ]
        }
      ]
    },
    {
      "cell_type": "code",
      "source": [
        "np_array = np.array([1,2,3])\n",
        "print(\"python array multiplication\",np_array*2)"
      ],
      "metadata": {
        "colab": {
          "base_uri": "https://localhost:8080/"
        },
        "id": "hMX3FKIYcjsn",
        "outputId": "0b2d5d7c-2c91-4818-a422-a7f111319d7d"
      },
      "execution_count": null,
      "outputs": [
        {
          "output_type": "stream",
          "name": "stdout",
          "text": [
            "python array multiplication [2 4 6]\n"
          ]
        }
      ]
    },
    {
      "cell_type": "code",
      "source": [
        "import time\n",
        "start = time.time()\n",
        "py_list = [i*2 for i in range(10000000)]\n",
        "print(\"python list multiplication time\" ,time.time()-start)\n",
        "\n",
        "start = time.time()\n",
        "np_array = np.arange(10000000)*2\n",
        "print(\"Numpy array multiplication time\" ,time.time()-start)"
      ],
      "metadata": {
        "colab": {
          "base_uri": "https://localhost:8080/"
        },
        "id": "Gh5obsBrdqjh",
        "outputId": "7810b8ed-9542-45d4-dd01-62f326d7da30"
      },
      "execution_count": null,
      "outputs": [
        {
          "output_type": "stream",
          "name": "stdout",
          "text": [
            "python list multiplication time 0.6255683898925781\n",
            "Numpy array multiplication time 0.04117417335510254\n"
          ]
        }
      ]
    },
    {
      "cell_type": "code",
      "source": [
        "zeroes = np.zeros((3,4))\n",
        "print(zeroes)"
      ],
      "metadata": {
        "colab": {
          "base_uri": "https://localhost:8080/"
        },
        "id": "ljxfgfy7gkCx",
        "outputId": "b022fd2a-dc7a-4c98-ea98-22461d6aadd4"
      },
      "execution_count": null,
      "outputs": [
        {
          "output_type": "stream",
          "name": "stdout",
          "text": [
            "[[0. 0. 0. 0.]\n",
            " [0. 0. 0. 0.]\n",
            " [0. 0. 0. 0.]]\n"
          ]
        }
      ]
    },
    {
      "cell_type": "code",
      "source": [
        "ones = np.ones((3,4))\n",
        "print(ones)"
      ],
      "metadata": {
        "colab": {
          "base_uri": "https://localhost:8080/"
        },
        "id": "p3xN3Ag0gvSO",
        "outputId": "5c40a67b-f30a-4987-f06a-17d0b1fd4fae"
      },
      "execution_count": null,
      "outputs": [
        {
          "output_type": "stream",
          "name": "stdout",
          "text": [
            "[[1. 1. 1. 1.]\n",
            " [1. 1. 1. 1.]\n",
            " [1. 1. 1. 1.]]\n"
          ]
        }
      ]
    },
    {
      "cell_type": "code",
      "source": [
        "full_array = np.full((3,4),6)\n",
        "print(full_array)"
      ],
      "metadata": {
        "colab": {
          "base_uri": "https://localhost:8080/"
        },
        "id": "x_h0L1UVhAkq",
        "outputId": "dc67546f-b96b-449a-a58e-f174dcea251d"
      },
      "execution_count": null,
      "outputs": [
        {
          "output_type": "stream",
          "name": "stdout",
          "text": [
            "[[6 6 6 6]\n",
            " [6 6 6 6]\n",
            " [6 6 6 6]]\n"
          ]
        }
      ]
    },
    {
      "cell_type": "code",
      "source": [
        "random_array = np.random.random((3,4))\n",
        "print(random_array)"
      ],
      "metadata": {
        "colab": {
          "base_uri": "https://localhost:8080/"
        },
        "id": "k1cRsbzqhcQX",
        "outputId": "3b6040a4-be56-4c97-dbe2-3dc73968446d"
      },
      "execution_count": null,
      "outputs": [
        {
          "output_type": "stream",
          "name": "stdout",
          "text": [
            "[[0.1044764  0.98523214 0.66545445 0.33393165]\n",
            " [0.41754147 0.28241037 0.2690333  0.06124831]\n",
            " [0.87776983 0.06178599 0.44151708 0.12864681]]\n"
          ]
        }
      ]
    },
    {
      "cell_type": "code",
      "source": [
        "sequence = np.arange(2,42,3)\n",
        "print(sequence)"
      ],
      "metadata": {
        "colab": {
          "base_uri": "https://localhost:8080/"
        },
        "id": "a2LzvCVchmbz",
        "outputId": "9beb2770-f13f-4264-c119-3a031921ed38"
      },
      "execution_count": null,
      "outputs": [
        {
          "output_type": "stream",
          "name": "stdout",
          "text": [
            "[ 2  5  8 11 14 17 20 23 26 29 32 35 38 41]\n"
          ]
        }
      ]
    },
    {
      "cell_type": "markdown",
      "source": [
        "**Vector, Matrix, Tensor**"
      ],
      "metadata": {
        "id": "iq9TUO5ch9i1"
      }
    },
    {
      "cell_type": "code",
      "source": [
        "vector = np.array([1,2,3])\n",
        "print(\"Vector is given below \\n\")\n",
        "print(vector)\n",
        "\n",
        "print(\"\\n\")\n",
        "\n",
        "matrix = np.array([[1,3,4],[5,7,2]])\n",
        "print(\"Matrix is given below \\n\")\n",
        "print(matrix)\n",
        "\n",
        "print(\"\\n\")\n",
        "\n",
        "Tensor = np.array([[[1,4,3],[2,7,3]],[[2,4,7],[6,4,8]]])\n",
        "print(\"Tensor is given below \\n\")\n",
        "print(Tensor)"
      ],
      "metadata": {
        "colab": {
          "base_uri": "https://localhost:8080/"
        },
        "id": "icMCAClhiCI1",
        "outputId": "1d3ef4bc-3b61-4bd7-f7cc-c5b6e9dea25a"
      },
      "execution_count": null,
      "outputs": [
        {
          "output_type": "stream",
          "name": "stdout",
          "text": [
            "Vector is given below \n",
            "\n",
            "[1 2 3]\n",
            "\n",
            "\n",
            "Matrix is given below \n",
            "\n",
            "[[1 3 4]\n",
            " [5 7 2]]\n",
            "\n",
            "\n",
            "Tensor is given below \n",
            "\n",
            "[[[1 4 3]\n",
            "  [2 7 3]]\n",
            "\n",
            " [[2 4 7]\n",
            "  [6 4 8]]]\n"
          ]
        }
      ]
    },
    {
      "cell_type": "markdown",
      "source": [
        "**Properties of Array**"
      ],
      "metadata": {
        "id": "xdBkdDxDj_o6"
      }
    },
    {
      "cell_type": "code",
      "source": [
        "arr1 = np.array([[1,2,9],[4,5,7]])\n",
        "print(arr1)\n",
        "print(\"\\n\")\n",
        "print(\"Shape\",arr1.shape)\n",
        "print(\"Dimension\",arr1.ndim)\n",
        "print(\"Size\",arr1.size)\n",
        "print(\"Data type\",arr1.dtype)"
      ],
      "metadata": {
        "colab": {
          "base_uri": "https://localhost:8080/"
        },
        "id": "FEPv91nwkBZZ",
        "outputId": "33a7674d-af49-4c6a-eee4-5738f1c49c14"
      },
      "execution_count": null,
      "outputs": [
        {
          "output_type": "stream",
          "name": "stdout",
          "text": [
            "[[1 2 9]\n",
            " [4 5 7]]\n",
            "\n",
            "\n",
            "Shape (2, 3)\n",
            "Dimension 2\n",
            "Size 6\n",
            "Data type int64\n"
          ]
        }
      ]
    },
    {
      "cell_type": "code",
      "source": [
        "arr = np.arange(12)\n",
        "print(\"Original array \\n\",arr)\n",
        "\n",
        "arr = arr.reshape(3,4)\n",
        "print(\"Reshaped array \\n\",arr)\n",
        "\n",
        "arr = arr.reshape(3,2,2)\n",
        "print(\"Reshaped array \\n\",arr)\n",
        "\n",
        "arr = arr.flatten() #flatten function hamesha array ki copy me change krta hai\n",
        "print(\"Flattened array \\n\",arr)\n",
        "\n",
        "print(\"\\n\")\n",
        "arr = arr.ravel() #ravel function hamesha original array me change krta hai\n",
        "\n",
        "print(\"raveled array\",arr)"
      ],
      "metadata": {
        "colab": {
          "base_uri": "https://localhost:8080/"
        },
        "id": "oZ7vGKP7k6Cy",
        "outputId": "8282ccd5-8db9-463b-deea-d484290c8bba"
      },
      "execution_count": null,
      "outputs": [
        {
          "output_type": "stream",
          "name": "stdout",
          "text": [
            "Original array \n",
            " [ 0  1  2  3  4  5  6  7  8  9 10 11]\n",
            "Reshaped array \n",
            " [[ 0  1  2  3]\n",
            " [ 4  5  6  7]\n",
            " [ 8  9 10 11]]\n",
            "Reshaped array \n",
            " [[[ 0  1]\n",
            "  [ 2  3]]\n",
            "\n",
            " [[ 4  5]\n",
            "  [ 6  7]]\n",
            "\n",
            " [[ 8  9]\n",
            "  [10 11]]]\n",
            "Flattened array \n",
            " [ 0  1  2  3  4  5  6  7  8  9 10 11]\n",
            "\n",
            "\n",
            "raveled array [ 0  1  2  3  4  5  6  7  8  9 10 11]\n"
          ]
        }
      ]
    },
    {
      "cell_type": "code",
      "source": [
        "arr1 = np.array([[1,2,9],[4,5,7]])\n",
        "arr = arr1.T\n",
        "print(arr)"
      ],
      "metadata": {
        "colab": {
          "base_uri": "https://localhost:8080/"
        },
        "id": "XPnfnxMmm3IM",
        "outputId": "db983055-f945-42b6-db94-c2ab5dab3803"
      },
      "execution_count": null,
      "outputs": [
        {
          "output_type": "stream",
          "name": "stdout",
          "text": [
            "[[1 4]\n",
            " [2 5]\n",
            " [9 7]]\n"
          ]
        }
      ]
    },
    {
      "cell_type": "markdown",
      "source": [
        "**Phase-2**"
      ],
      "metadata": {
        "id": "YV5DCksPn7J3"
      }
    },
    {
      "cell_type": "code",
      "source": [
        "arr = np.array([[1,2,9],[4,5,7]])\n",
        "arr = arr.flatten()\n",
        "print(\"Original Array\",arr)\n",
        "print(\"Sorted Array\", np.sort(arr))"
      ],
      "metadata": {
        "colab": {
          "base_uri": "https://localhost:8080/"
        },
        "id": "wsQtPKLln_-z",
        "outputId": "33c2638b-f5d9-47c8-d013-cfe590404f01"
      },
      "execution_count": null,
      "outputs": [
        {
          "output_type": "stream",
          "name": "stdout",
          "text": [
            "Original Array [1 2 9 4 5 7]\n",
            "Sorted Array [1 2 4 5 7 9]\n"
          ]
        }
      ]
    },
    {
      "cell_type": "code",
      "source": [
        "arr = np.array([[1,6,9],[4,5,7]])\n",
        "print(\"Original Array \\n\",arr)\n",
        "print(\"Sorted Array \\n\", np.sort(arr,axis=0))  ## axis=0 column sorting hota"
      ],
      "metadata": {
        "colab": {
          "base_uri": "https://localhost:8080/"
        },
        "id": "qusVxp9GwN4N",
        "outputId": "0931ecd8-4b5f-4367-94f3-2ed1d6da050a"
      },
      "execution_count": null,
      "outputs": [
        {
          "output_type": "stream",
          "name": "stdout",
          "text": [
            "Original Array \n",
            " [[1 6 9]\n",
            " [4 5 7]]\n",
            "Sorted Array \n",
            " [[1 5 7]\n",
            " [4 6 9]]\n"
          ]
        }
      ]
    },
    {
      "cell_type": "code",
      "source": [
        "arr = np.array([[1,2,9],[4,5,7]])\n",
        "arr = arr.flatten()\n",
        "even_numbers = arr[arr%2==0]\n",
        "print(\"Even numbers\",even_numbers)"
      ],
      "metadata": {
        "colab": {
          "base_uri": "https://localhost:8080/"
        },
        "id": "Mqqc44Tjx4XQ",
        "outputId": "1ccaabe5-4f42-4240-ee4c-fed532985954"
      },
      "execution_count": 27,
      "outputs": [
        {
          "output_type": "stream",
          "name": "stdout",
          "text": [
            "Even numbers [2 4]\n"
          ]
        }
      ]
    },
    {
      "cell_type": "code",
      "source": [
        "mask = arr>2\n",
        "print(\"Number greater than 2 \", arr[mask])"
      ],
      "metadata": {
        "colab": {
          "base_uri": "https://localhost:8080/"
        },
        "id": "2wD5TnlwzGAd",
        "outputId": "c607d6c9-eab5-43b8-a4e8-365395854a88"
      },
      "execution_count": 28,
      "outputs": [
        {
          "output_type": "stream",
          "name": "stdout",
          "text": [
            "Number greater than 2  [9 4 5 7]\n"
          ]
        }
      ]
    },
    {
      "cell_type": "code",
      "source": [
        "index = [0,1,3]\n",
        "print(\"Original array\", arr[index])\n",
        "\n",
        "where_result = np.where(arr>2)\n",
        "print(\"where_result\",arr[where_result])"
      ],
      "metadata": {
        "colab": {
          "base_uri": "https://localhost:8080/"
        },
        "id": "-v4a_iXU0Dov",
        "outputId": "e73634c1-e6b6-4bf1-cc6f-1f1d562b0506"
      },
      "execution_count": 29,
      "outputs": [
        {
          "output_type": "stream",
          "name": "stdout",
          "text": [
            "Original array [1 2 4]\n",
            "where_result [9 4 5 7]\n"
          ]
        }
      ]
    },
    {
      "cell_type": "code",
      "source": [
        "arr = np.array([[1,2,9],[4,8,7]])\n",
        "arr1 = np.array([[1,3,4],[4,5,7]])\n",
        "\n",
        "combined = arr+arr1\n",
        "print(\"Combined array \\n\",combined) # shape should be same for both array\n",
        "concat_array = np.concatenate((arr,arr1),axis=0)\n",
        "print(\"arr \\n\",arr)\n",
        "print(\"arr1 \\n\",arr1)\n",
        "print(\"Concatenated array \\n\",concat_array)"
      ],
      "metadata": {
        "colab": {
          "base_uri": "https://localhost:8080/"
        },
        "id": "RFnQT9WB3z3W",
        "outputId": "305d80fc-5553-4944-d679-81adf8363412"
      },
      "execution_count": 35,
      "outputs": [
        {
          "output_type": "stream",
          "name": "stdout",
          "text": [
            "Combined array \n",
            " [[ 2  5 13]\n",
            " [ 8 13 14]]\n",
            "arr \n",
            " [[1 2 9]\n",
            " [4 8 7]]\n",
            "arr1 \n",
            " [[1 3 4]\n",
            " [4 5 7]]\n",
            "Concatenated array \n",
            " [[1 2 9]\n",
            " [4 8 7]\n",
            " [1 3 4]\n",
            " [4 5 7]]\n"
          ]
        }
      ]
    },
    {
      "cell_type": "code",
      "source": [
        "arr= np.array([[1,2,3],[2,3,5]])\n",
        "new_row = np.array([[5,7,2]])\n",
        "new_arr = np.vstack((arr,new_row))\n",
        "print(\"New array \\n\",new_arr)\n",
        "new_col = np.array([[2,3,4],[3,6,7]])\n",
        "new_arr = np.hstack((arr,new_col))\n",
        "print(\"New array \\n\",new_arr)"
      ],
      "metadata": {
        "colab": {
          "base_uri": "https://localhost:8080/"
        },
        "id": "yvlSciJj88RU",
        "outputId": "40f186be-d2ed-474d-c1bd-939a4489ce7b"
      },
      "execution_count": 37,
      "outputs": [
        {
          "output_type": "stream",
          "name": "stdout",
          "text": [
            "New array \n",
            " [[1 2 3]\n",
            " [2 3 5]\n",
            " [5 7 2]]\n",
            "New array \n",
            " [[1 2 3 2 3 4]\n",
            " [2 3 5 3 6 7]]\n"
          ]
        }
      ]
    },
    {
      "cell_type": "code",
      "source": [
        "deleted = np.delete(arr,[1,2]) ## simply pass arr and index of element that should be deleted\n",
        "print(deleted)"
      ],
      "metadata": {
        "colab": {
          "base_uri": "https://localhost:8080/"
        },
        "id": "Bq6Wdt-K-DF7",
        "outputId": "03e357ef-e73c-48b0-8181-ea48d9b68bb4"
      },
      "execution_count": 40,
      "outputs": [
        {
          "output_type": "stream",
          "name": "stdout",
          "text": [
            "[1 2 3 5]\n"
          ]
        }
      ]
    },
    {
      "cell_type": "markdown",
      "source": [
        "**Phase-3**"
      ],
      "metadata": {
        "id": "XRkmrNwd-mzF"
      }
    },
    {
      "cell_type": "code",
      "source": [],
      "metadata": {
        "id": "wLk2T4sz-sD-"
      },
      "execution_count": null,
      "outputs": []
    }
  ]
}