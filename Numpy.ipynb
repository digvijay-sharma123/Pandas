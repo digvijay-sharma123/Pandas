{
  "nbformat": 4,
  "nbformat_minor": 0,
  "metadata": {
    "colab": {
      "provenance": [],
      "authorship_tag": "ABX9TyOfxuD9+iElrR9Nmz75wDdf",
      "include_colab_link": true
    },
    "kernelspec": {
      "name": "python3",
      "display_name": "Python 3"
    },
    "language_info": {
      "name": "python"
    }
  },
  "cells": [
    {
      "cell_type": "markdown",
      "metadata": {
        "id": "view-in-github",
        "colab_type": "text"
      },
      "source": [
        "<a href=\"https://colab.research.google.com/github/digvijay-sharma123/Pandas/blob/main/Numpy.ipynb\" target=\"_parent\"><img src=\"https://colab.research.google.com/assets/colab-badge.svg\" alt=\"Open In Colab\"/></a>"
      ]
    },
    {
      "cell_type": "code",
      "execution_count": 2,
      "metadata": {
        "id": "1p8B6wBLWhxc"
      },
      "outputs": [],
      "source": [
        "import numpy as np"
      ]
    },
    {
      "cell_type": "code",
      "source": [
        "arr_1d = np.array([1,2,4])\n",
        "print(arr_1d)"
      ],
      "metadata": {
        "colab": {
          "base_uri": "https://localhost:8080/"
        },
        "id": "-WrYGBt0a6im",
        "outputId": "c54c0b17-f049-4649-8c45-8f875104a66d"
      },
      "execution_count": 4,
      "outputs": [
        {
          "output_type": "stream",
          "name": "stdout",
          "text": [
            "[1 2 4]\n"
          ]
        }
      ]
    },
    {
      "cell_type": "code",
      "source": [
        "arr_2d = np.array([[1,2,3,4],[3,6,2,9]])\n",
        "print(arr_2d)"
      ],
      "metadata": {
        "colab": {
          "base_uri": "https://localhost:8080/"
        },
        "id": "dQ3ncGIQbIXH",
        "outputId": "3cda01f5-aea4-4e9b-bb84-b8a167fe25a7"
      },
      "execution_count": 6,
      "outputs": [
        {
          "output_type": "stream",
          "name": "stdout",
          "text": [
            "[[1 2 3 4]\n",
            " [3 6 2 9]]\n"
          ]
        }
      ]
    },
    {
      "cell_type": "code",
      "source": [
        "py_list = [1,2,3]\n",
        "print(\"python list multiplication\",py_list*2)"
      ],
      "metadata": {
        "colab": {
          "base_uri": "https://localhost:8080/"
        },
        "id": "YOqlwulScUWf",
        "outputId": "f0bdf434-6b83-41ea-b33b-43e15e8d5461"
      },
      "execution_count": 7,
      "outputs": [
        {
          "output_type": "stream",
          "name": "stdout",
          "text": [
            "python list multiplication [1, 2, 3, 1, 2, 3]\n"
          ]
        }
      ]
    },
    {
      "cell_type": "code",
      "source": [
        "np_array = np.array([1,2,3])\n",
        "print(\"python array multiplication\",np_array*2)"
      ],
      "metadata": {
        "colab": {
          "base_uri": "https://localhost:8080/"
        },
        "id": "hMX3FKIYcjsn",
        "outputId": "1ba02e0b-8f9c-4c46-e23b-f05e8b006c21"
      },
      "execution_count": 8,
      "outputs": [
        {
          "output_type": "stream",
          "name": "stdout",
          "text": [
            "python array multiplication [2 4 6]\n"
          ]
        }
      ]
    },
    {
      "cell_type": "code",
      "source": [
        "import time\n",
        "start = time.time()\n",
        "py_list = [i*2 for i in range(10000000)]\n",
        "print(\"python list multiplication time\" ,time.time()-start)\n",
        "\n",
        "start = time.time()\n",
        "np_array = np.arange(10000000)*2\n",
        "print(\"Numpy array multiplication time\" ,time.time()-start)"
      ],
      "metadata": {
        "colab": {
          "base_uri": "https://localhost:8080/"
        },
        "id": "Gh5obsBrdqjh",
        "outputId": "1cf4cfe6-e1a4-49d0-9243-5edaa02b5a8b"
      },
      "execution_count": 10,
      "outputs": [
        {
          "output_type": "stream",
          "name": "stdout",
          "text": [
            "python list multiplication time 0.6285953521728516\n",
            "Numpy array multiplication time 0.050821781158447266\n"
          ]
        }
      ]
    },
    {
      "cell_type": "code",
      "source": [
        "zeroes = np.zeros((3,4))\n",
        "print(zeroes)"
      ],
      "metadata": {
        "colab": {
          "base_uri": "https://localhost:8080/"
        },
        "id": "ljxfgfy7gkCx",
        "outputId": "c86eec1e-1f21-4507-8792-1e4442f40e2f"
      },
      "execution_count": 12,
      "outputs": [
        {
          "output_type": "stream",
          "name": "stdout",
          "text": [
            "[[0. 0. 0. 0.]\n",
            " [0. 0. 0. 0.]\n",
            " [0. 0. 0. 0.]]\n"
          ]
        }
      ]
    },
    {
      "cell_type": "code",
      "source": [
        "ones = np.ones((3,4))\n",
        "print(ones)"
      ],
      "metadata": {
        "colab": {
          "base_uri": "https://localhost:8080/"
        },
        "id": "p3xN3Ag0gvSO",
        "outputId": "4df24547-1162-4db3-8948-8ceda842aef6"
      },
      "execution_count": 13,
      "outputs": [
        {
          "output_type": "stream",
          "name": "stdout",
          "text": [
            "[[1. 1. 1. 1.]\n",
            " [1. 1. 1. 1.]\n",
            " [1. 1. 1. 1.]]\n"
          ]
        }
      ]
    },
    {
      "cell_type": "code",
      "source": [
        "full_array = np.full((3,4),6)\n",
        "print(full_array)"
      ],
      "metadata": {
        "colab": {
          "base_uri": "https://localhost:8080/"
        },
        "id": "x_h0L1UVhAkq",
        "outputId": "87281894-2a49-45fc-823e-b2839e89481e"
      },
      "execution_count": 15,
      "outputs": [
        {
          "output_type": "stream",
          "name": "stdout",
          "text": [
            "[[6 6 6 6]\n",
            " [6 6 6 6]\n",
            " [6 6 6 6]]\n"
          ]
        }
      ]
    },
    {
      "cell_type": "code",
      "source": [
        "random_array = np.random.random((3,4))\n",
        "print(random_array)"
      ],
      "metadata": {
        "colab": {
          "base_uri": "https://localhost:8080/"
        },
        "id": "k1cRsbzqhcQX",
        "outputId": "bcf9b1d9-c187-4181-fdd1-2249eaee081b"
      },
      "execution_count": 16,
      "outputs": [
        {
          "output_type": "stream",
          "name": "stdout",
          "text": [
            "[[0.79771027 0.0574873  0.48300914 0.23712588]\n",
            " [0.93168529 0.59530117 0.99211789 0.28117842]\n",
            " [0.02329793 0.64986921 0.98451101 0.00711247]]\n"
          ]
        }
      ]
    },
    {
      "cell_type": "code",
      "source": [
        "sequence = np.arange(2,42,3)\n",
        "print(sequence)"
      ],
      "metadata": {
        "colab": {
          "base_uri": "https://localhost:8080/"
        },
        "id": "a2LzvCVchmbz",
        "outputId": "5f93af4a-6138-4906-dc4e-a60f113526bc"
      },
      "execution_count": 18,
      "outputs": [
        {
          "output_type": "stream",
          "name": "stdout",
          "text": [
            "[ 2  5  8 11 14 17 20 23 26 29 32 35 38 41]\n"
          ]
        }
      ]
    },
    {
      "cell_type": "markdown",
      "source": [
        "**Vector, Matrix, Tensor**"
      ],
      "metadata": {
        "id": "iq9TUO5ch9i1"
      }
    },
    {
      "cell_type": "code",
      "source": [
        "vector = np.array([1,2,3])\n",
        "print(\"Vector is given below \\n\")\n",
        "print(vector)\n",
        "\n",
        "print(\"\\n\")\n",
        "\n",
        "matrix = np.array([[1,3,4],[5,7,2]])\n",
        "print(\"Matrix is given below \\n\")\n",
        "print(matrix)\n",
        "\n",
        "print(\"\\n\")\n",
        "\n",
        "Tensor = np.array([[[1,4,3],[2,7,3]],[[2,4,7],[6,4,8]]])\n",
        "print(\"Tensor is given below \\n\")\n",
        "print(Tensor)"
      ],
      "metadata": {
        "colab": {
          "base_uri": "https://localhost:8080/"
        },
        "id": "icMCAClhiCI1",
        "outputId": "abab3945-6a17-4b49-8527-360931dd2dd4"
      },
      "execution_count": 23,
      "outputs": [
        {
          "output_type": "stream",
          "name": "stdout",
          "text": [
            "Vector is given below \n",
            "\n",
            "[1 2 3]\n",
            "\n",
            "\n",
            "Matrix is given below \n",
            "\n",
            "[[1 3 4]\n",
            " [5 7 2]]\n",
            "\n",
            "\n",
            "Tensor is given below \n",
            "\n",
            "[[[1 4 3]\n",
            "  [2 7 3]]\n",
            "\n",
            " [[2 4 7]\n",
            "  [6 4 8]]]\n"
          ]
        }
      ]
    },
    {
      "cell_type": "markdown",
      "source": [
        "**Properties of Array**"
      ],
      "metadata": {
        "id": "xdBkdDxDj_o6"
      }
    },
    {
      "cell_type": "code",
      "source": [
        "arr1 = np.array([[1,2,9],[4,5,7]])\n",
        "print(arr1)\n",
        "print(\"\\n\")\n",
        "print(\"Shape\",arr1.shape)\n",
        "print(\"Dimension\",arr1.ndim)\n",
        "print(\"Size\",arr1.size)\n",
        "print(\"Data type\",arr1.dtype)"
      ],
      "metadata": {
        "colab": {
          "base_uri": "https://localhost:8080/"
        },
        "id": "FEPv91nwkBZZ",
        "outputId": "ecd9eff3-9dbd-4cbf-e88c-43ab403cb53b"
      },
      "execution_count": 48,
      "outputs": [
        {
          "output_type": "stream",
          "name": "stdout",
          "text": [
            "[[1 2 9]\n",
            " [4 5 7]]\n",
            "\n",
            "\n",
            "Shape (2, 3)\n",
            "Dimension 2\n",
            "Size 6\n",
            "Data type int64\n"
          ]
        }
      ]
    },
    {
      "cell_type": "code",
      "source": [
        "arr = np.arange(12)\n",
        "print(\"Original array \\n\",arr)\n",
        "\n",
        "arr = arr.reshape(3,4)\n",
        "print(\"Reshaped array \\n\",arr)\n",
        "\n",
        "arr = arr.reshape(3,2,2)\n",
        "print(\"Reshaped array \\n\",arr)\n",
        "\n",
        "arr = arr.flatten() #flatten function hamesha array ki copy me change krta hai\n",
        "print(\"Flattened array \\n\",arr)\n",
        "\n",
        "print(\"\\n\")\n",
        "arr = arr.ravel() #ravel function hamesha original array me change krta hai\n",
        "\n",
        "print(\"raveled array\",arr)"
      ],
      "metadata": {
        "colab": {
          "base_uri": "https://localhost:8080/"
        },
        "id": "oZ7vGKP7k6Cy",
        "outputId": "3ac28465-e1ad-45b9-d744-51c850631898"
      },
      "execution_count": 46,
      "outputs": [
        {
          "output_type": "stream",
          "name": "stdout",
          "text": [
            "Original array \n",
            " [ 0  1  2  3  4  5  6  7  8  9 10 11]\n",
            "Reshaped array \n",
            " [[ 0  1  2  3]\n",
            " [ 4  5  6  7]\n",
            " [ 8  9 10 11]]\n",
            "Reshaped array \n",
            " [[[ 0  1]\n",
            "  [ 2  3]]\n",
            "\n",
            " [[ 4  5]\n",
            "  [ 6  7]]\n",
            "\n",
            " [[ 8  9]\n",
            "  [10 11]]]\n",
            "Flattened array \n",
            " [ 0  1  2  3  4  5  6  7  8  9 10 11]\n",
            "\n",
            "\n",
            "raveled array [ 0  1  2  3  4  5  6  7  8  9 10 11]\n"
          ]
        }
      ]
    },
    {
      "cell_type": "code",
      "source": [
        "arr1 = np.array([[1,2,9],[4,5,7]])\n",
        "arr = arr1.T\n",
        "print(arr)"
      ],
      "metadata": {
        "colab": {
          "base_uri": "https://localhost:8080/"
        },
        "id": "XPnfnxMmm3IM",
        "outputId": "d804609c-8a28-4d5f-b161-ef95ab28b3ed"
      },
      "execution_count": 52,
      "outputs": [
        {
          "output_type": "stream",
          "name": "stdout",
          "text": [
            "[[1 4]\n",
            " [2 5]\n",
            " [9 7]]\n"
          ]
        }
      ]
    }
  ]
}