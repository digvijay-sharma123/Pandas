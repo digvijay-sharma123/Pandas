{
  "nbformat": 4,
  "nbformat_minor": 0,
  "metadata": {
    "colab": {
      "provenance": [],
      "authorship_tag": "ABX9TyOrZG9ra4cSXDj37878AA80",
      "include_colab_link": true
    },
    "kernelspec": {
      "name": "python3",
      "display_name": "Python 3"
    },
    "language_info": {
      "name": "python"
    }
  },
  "cells": [
    {
      "cell_type": "markdown",
      "metadata": {
        "id": "view-in-github",
        "colab_type": "text"
      },
      "source": [
        "<a href=\"https://colab.research.google.com/github/digvijay-sharma123/Pandas/blob/main/Pandas.ipynb\" target=\"_parent\"><img src=\"https://colab.research.google.com/assets/colab-badge.svg\" alt=\"Open In Colab\"/></a>"
      ]
    },
    {
      "cell_type": "code",
      "execution_count": null,
      "metadata": {
        "id": "aXoMI5QJlQJN"
      },
      "outputs": [],
      "source": [
        "import pandas as pd"
      ]
    },
    {
      "cell_type": "code",
      "source": [
        "print(pd.__version__)"
      ],
      "metadata": {
        "colab": {
          "base_uri": "https://localhost:8080/"
        },
        "id": "mCVRzy0Qp-WK",
        "outputId": "63207e12-2f51-47e9-91cb-7585f0548f23"
      },
      "execution_count": null,
      "outputs": [
        {
          "output_type": "stream",
          "name": "stdout",
          "text": [
            "2.2.2\n"
          ]
        }
      ]
    },
    {
      "cell_type": "code",
      "source": [
        "df = [1,24,3]\n",
        "dfnew = pd.Series(df)\n",
        "print(dfnew)"
      ],
      "metadata": {
        "colab": {
          "base_uri": "https://localhost:8080/"
        },
        "id": "9xebYGeTsAXr",
        "outputId": "16998ed2-5704-43d8-ba1a-fdf6c99eb300"
      },
      "execution_count": null,
      "outputs": [
        {
          "output_type": "stream",
          "name": "stdout",
          "text": [
            "0     1\n",
            "1    24\n",
            "2     3\n",
            "dtype: int64\n"
          ]
        }
      ]
    },
    {
      "cell_type": "markdown",
      "source": [
        "**LABELLING**\n"
      ],
      "metadata": {
        "id": "QHI95R_DtuwZ"
      }
    },
    {
      "cell_type": "code",
      "source": [
        "dfnew = pd.Series(df, index = [\"x\", \"y\", \"z\"])\n",
        "print(dfnew)"
      ],
      "metadata": {
        "colab": {
          "base_uri": "https://localhost:8080/"
        },
        "id": "fgDyxefwt0xQ",
        "outputId": "2d541ce1-a3fd-4c1c-ac80-cabfd8697dd5"
      },
      "execution_count": null,
      "outputs": [
        {
          "output_type": "stream",
          "name": "stdout",
          "text": [
            "x     1\n",
            "y    24\n",
            "z     3\n",
            "dtype: int64\n"
          ]
        }
      ]
    },
    {
      "cell_type": "code",
      "source": [
        "df = {\"day1\":[12,114,5],\"day2\":[12,45,34],\"day3\":[121,415,314]}\n",
        "dfnew = pd.DataFrame(df)\n",
        "print(dfnew)"
      ],
      "metadata": {
        "colab": {
          "base_uri": "https://localhost:8080/"
        },
        "id": "aEwSl3vfwEjs",
        "outputId": "1fedc200-835e-4c3a-d821-9cf2bd014b31"
      },
      "execution_count": null,
      "outputs": [
        {
          "output_type": "stream",
          "name": "stdout",
          "text": [
            "   day1  day2  day3\n",
            "0    12    12   121\n",
            "1   114    45   415\n",
            "2     5    34   314\n"
          ]
        }
      ]
    },
    {
      "cell_type": "code",
      "source": [
        "print(dfnew.loc[0:1])"
      ],
      "metadata": {
        "colab": {
          "base_uri": "https://localhost:8080/"
        },
        "id": "MyrOzMtqzOyV",
        "outputId": "49aa235e-86bb-44f2-c0a5-8df028f0f718"
      },
      "execution_count": null,
      "outputs": [
        {
          "output_type": "stream",
          "name": "stdout",
          "text": [
            "   day1  day2  day3\n",
            "0    12    12   121\n",
            "1   114    45   415\n"
          ]
        }
      ]
    },
    {
      "cell_type": "code",
      "source": [
        "print(dfnew.loc[0])"
      ],
      "metadata": {
        "colab": {
          "base_uri": "https://localhost:8080/"
        },
        "id": "57Qp3Mc2HLid",
        "outputId": "fc8e6347-f668-427f-c447-d904c4b742bc"
      },
      "execution_count": null,
      "outputs": [
        {
          "output_type": "stream",
          "name": "stdout",
          "text": [
            "day1     12\n",
            "day2     12\n",
            "day3    121\n",
            "Name: 0, dtype: int64\n"
          ]
        }
      ]
    },
    {
      "cell_type": "code",
      "source": [
        "print(dfnew.loc[[0,1]])"
      ],
      "metadata": {
        "colab": {
          "base_uri": "https://localhost:8080/"
        },
        "id": "nfTZybjf1T9g",
        "outputId": "1a14bb1f-0f12-4809-a969-40566fc9036d"
      },
      "execution_count": null,
      "outputs": [
        {
          "output_type": "stream",
          "name": "stdout",
          "text": [
            "   day1  day2  day3\n",
            "0    12    12   121\n",
            "1   114    45   415\n"
          ]
        }
      ]
    },
    {
      "cell_type": "code",
      "source": [
        "dfnew = pd.DataFrame(df,index=[\"col1\",\"col2\",\"col3\"])\n",
        "print(dfnew)"
      ],
      "metadata": {
        "colab": {
          "base_uri": "https://localhost:8080/"
        },
        "id": "lGE0kW07H7Ys",
        "outputId": "ea138f07-cb3f-408d-9024-92255a94f608"
      },
      "execution_count": null,
      "outputs": [
        {
          "output_type": "stream",
          "name": "stdout",
          "text": [
            "      day1  day2  day3\n",
            "col1    12    12   121\n",
            "col2   114    45   415\n",
            "col3     5    34   314\n"
          ]
        }
      ]
    },
    {
      "cell_type": "code",
      "source": [
        "print(dfnew.loc[\"col2\"])"
      ],
      "metadata": {
        "colab": {
          "base_uri": "https://localhost:8080/"
        },
        "id": "JpOw-cbxIWMw",
        "outputId": "26684c9e-762f-4ca1-ff85-c58709e3e049"
      },
      "execution_count": null,
      "outputs": [
        {
          "output_type": "stream",
          "name": "stdout",
          "text": [
            "day1    114\n",
            "day2     45\n",
            "day3    415\n",
            "Name: col2, dtype: int64\n"
          ]
        }
      ]
    },
    {
      "cell_type": "code",
      "source": [
        "print(dfnew.loc[[\"col1\",\"col3\"]])"
      ],
      "metadata": {
        "colab": {
          "base_uri": "https://localhost:8080/"
        },
        "id": "HNVAPZa6IeH5",
        "outputId": "e7e63d43-106d-427e-b2bc-f2c682fdc86b"
      },
      "execution_count": null,
      "outputs": [
        {
          "output_type": "stream",
          "name": "stdout",
          "text": [
            "      day1  day2  day3\n",
            "col1    12    12   121\n",
            "col3     5    34   314\n"
          ]
        }
      ]
    },
    {
      "cell_type": "markdown",
      "source": [
        "**Load the data from csv file into dataframe**"
      ],
      "metadata": {
        "id": "r3k7MLQRIx0z"
      }
    },
    {
      "cell_type": "markdown",
      "source": [
        "with help of to string function whole data is printed else only .. value printed if we not use to_string"
      ],
      "metadata": {
        "id": "rdP0REcoL2sR"
      }
    },
    {
      "cell_type": "code",
      "source": [
        "fileload = pd.read_csv('/content/pandas_data.csv')\n",
        "print(fileload.to_string())"
      ],
      "metadata": {
        "colab": {
          "base_uri": "https://localhost:8080/"
        },
        "id": "cBWdgLZiI6tx",
        "outputId": "bcaa6748-497b-4de3-ce3d-4601aa8bf668"
      },
      "execution_count": null,
      "outputs": [
        {
          "output_type": "stream",
          "name": "stdout",
          "text": [
            "    id first_name                         email   gender\n",
            "0    1       Baxy   bbutterley0@liveinternet.ru     Male\n",
            "1    2    Jillian  jverbeke1@barnesandnoble.com   Female\n",
            "2    3     Artair         ashimmings2@google.ru     Male\n",
            "3    4     Bonita            bharbertson3@de.vu   Female\n",
            "4    5      Brody     bwiersma4@kickstarter.com  Agender\n",
            "5    6      Ulick  umcguinley5@businesswire.com     Male\n",
            "6    7      Paige               plevee6@last.fm   Female\n",
            "7    8      Glenn              glott7@google.nl   Female\n",
            "8    9       Alon         atantrum8@youtube.com     Male\n",
            "9   10      Boone       branklin9@newyorker.com     Male\n",
            "10  11       Theo      tkarpmana@altervista.org     Male\n",
            "11  12      Donna     donealb@cocolog-nifty.com   Female\n",
            "12  13       Orin      omarskellc@canalblog.com     Male\n",
            "13  14    Chaunce           csaged@springer.com     Male\n",
            "14  15   Sinclare          sswatridgee@cnet.com     Male\n"
          ]
        }
      ]
    },
    {
      "cell_type": "code",
      "source": [
        "fileload = pd.read_csv('/content/pandas_data.csv')\n",
        "print(fileload)"
      ],
      "metadata": {
        "colab": {
          "base_uri": "https://localhost:8080/"
        },
        "id": "DfZnb8ZiLsXF",
        "outputId": "da5c35a5-0579-4f34-b1be-cf3bdaa068cc"
      },
      "execution_count": null,
      "outputs": [
        {
          "output_type": "stream",
          "name": "stdout",
          "text": [
            "    id first_name                         email   gender\n",
            "0    1       Baxy   bbutterley0@liveinternet.ru     Male\n",
            "1    2    Jillian  jverbeke1@barnesandnoble.com   Female\n",
            "2    3     Artair         ashimmings2@google.ru     Male\n",
            "3    4     Bonita            bharbertson3@de.vu   Female\n",
            "4    5      Brody     bwiersma4@kickstarter.com  Agender\n",
            "5    6      Ulick  umcguinley5@businesswire.com     Male\n",
            "6    7      Paige               plevee6@last.fm   Female\n",
            "7    8      Glenn              glott7@google.nl   Female\n",
            "8    9       Alon         atantrum8@youtube.com     Male\n",
            "9   10      Boone       branklin9@newyorker.com     Male\n",
            "10  11       Theo      tkarpmana@altervista.org     Male\n",
            "11  12      Donna     donealb@cocolog-nifty.com   Female\n",
            "12  13       Orin      omarskellc@canalblog.com     Male\n",
            "13  14    Chaunce           csaged@springer.com     Male\n",
            "14  15   Sinclare          sswatridgee@cnet.com     Male\n"
          ]
        }
      ]
    }
  ]
}