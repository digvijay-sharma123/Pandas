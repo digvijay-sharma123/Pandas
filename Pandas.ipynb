{
  "nbformat": 4,
  "nbformat_minor": 0,
  "metadata": {
    "colab": {
      "provenance": [],
      "authorship_tag": "ABX9TyPsBGmet6NN4Jbo64aRhp9w",
      "include_colab_link": true
    },
    "kernelspec": {
      "name": "python3",
      "display_name": "Python 3"
    },
    "language_info": {
      "name": "python"
    }
  },
  "cells": [
    {
      "cell_type": "markdown",
      "metadata": {
        "id": "view-in-github",
        "colab_type": "text"
      },
      "source": [
        "<a href=\"https://colab.research.google.com/github/digvijay-sharma123/Pandas/blob/main/Pandas.ipynb\" target=\"_parent\"><img src=\"https://colab.research.google.com/assets/colab-badge.svg\" alt=\"Open In Colab\"/></a>"
      ]
    },
    {
      "cell_type": "code",
      "execution_count": 1,
      "metadata": {
        "id": "aXoMI5QJlQJN"
      },
      "outputs": [],
      "source": [
        "import pandas as pd"
      ]
    },
    {
      "cell_type": "code",
      "source": [
        "print(pd.__version__)"
      ],
      "metadata": {
        "colab": {
          "base_uri": "https://localhost:8080/"
        },
        "id": "mCVRzy0Qp-WK",
        "outputId": "3c15cca0-440f-47fc-d6fc-165ec98df04b"
      },
      "execution_count": 2,
      "outputs": [
        {
          "output_type": "stream",
          "name": "stdout",
          "text": [
            "2.2.2\n"
          ]
        }
      ]
    },
    {
      "cell_type": "code",
      "source": [
        "df = [1,24,3]\n",
        "dfnew = pd.Series(df)\n",
        "print(dfnew)"
      ],
      "metadata": {
        "colab": {
          "base_uri": "https://localhost:8080/"
        },
        "id": "9xebYGeTsAXr",
        "outputId": "16998ed2-5704-43d8-ba1a-fdf6c99eb300"
      },
      "execution_count": null,
      "outputs": [
        {
          "output_type": "stream",
          "name": "stdout",
          "text": [
            "0     1\n",
            "1    24\n",
            "2     3\n",
            "dtype: int64\n"
          ]
        }
      ]
    },
    {
      "cell_type": "markdown",
      "source": [
        "**LABELLING**\n"
      ],
      "metadata": {
        "id": "QHI95R_DtuwZ"
      }
    },
    {
      "cell_type": "code",
      "source": [
        "dfnew = pd.Series(df, index = [\"x\", \"y\", \"z\"])\n",
        "print(dfnew)"
      ],
      "metadata": {
        "colab": {
          "base_uri": "https://localhost:8080/"
        },
        "id": "fgDyxefwt0xQ",
        "outputId": "2d541ce1-a3fd-4c1c-ac80-cabfd8697dd5"
      },
      "execution_count": null,
      "outputs": [
        {
          "output_type": "stream",
          "name": "stdout",
          "text": [
            "x     1\n",
            "y    24\n",
            "z     3\n",
            "dtype: int64\n"
          ]
        }
      ]
    },
    {
      "cell_type": "code",
      "source": [
        "df = {\"day1\":[12,114,5],\"day2\":[12,45,34],\"day3\":[121,415,314]}\n",
        "dfnew = pd.DataFrame(df)\n",
        "print(dfnew)"
      ],
      "metadata": {
        "colab": {
          "base_uri": "https://localhost:8080/"
        },
        "id": "aEwSl3vfwEjs",
        "outputId": "1fedc200-835e-4c3a-d821-9cf2bd014b31"
      },
      "execution_count": null,
      "outputs": [
        {
          "output_type": "stream",
          "name": "stdout",
          "text": [
            "   day1  day2  day3\n",
            "0    12    12   121\n",
            "1   114    45   415\n",
            "2     5    34   314\n"
          ]
        }
      ]
    },
    {
      "cell_type": "code",
      "source": [
        "print(dfnew.loc[0:1])"
      ],
      "metadata": {
        "colab": {
          "base_uri": "https://localhost:8080/"
        },
        "id": "MyrOzMtqzOyV",
        "outputId": "49aa235e-86bb-44f2-c0a5-8df028f0f718"
      },
      "execution_count": null,
      "outputs": [
        {
          "output_type": "stream",
          "name": "stdout",
          "text": [
            "   day1  day2  day3\n",
            "0    12    12   121\n",
            "1   114    45   415\n"
          ]
        }
      ]
    },
    {
      "cell_type": "code",
      "source": [
        "print(dfnew.loc[0])"
      ],
      "metadata": {
        "colab": {
          "base_uri": "https://localhost:8080/"
        },
        "id": "57Qp3Mc2HLid",
        "outputId": "fc8e6347-f668-427f-c447-d904c4b742bc"
      },
      "execution_count": null,
      "outputs": [
        {
          "output_type": "stream",
          "name": "stdout",
          "text": [
            "day1     12\n",
            "day2     12\n",
            "day3    121\n",
            "Name: 0, dtype: int64\n"
          ]
        }
      ]
    },
    {
      "cell_type": "code",
      "source": [
        "print(dfnew.loc[[0,1]])"
      ],
      "metadata": {
        "colab": {
          "base_uri": "https://localhost:8080/"
        },
        "id": "nfTZybjf1T9g",
        "outputId": "1a14bb1f-0f12-4809-a969-40566fc9036d"
      },
      "execution_count": null,
      "outputs": [
        {
          "output_type": "stream",
          "name": "stdout",
          "text": [
            "   day1  day2  day3\n",
            "0    12    12   121\n",
            "1   114    45   415\n"
          ]
        }
      ]
    },
    {
      "cell_type": "code",
      "source": [
        "dfnew = pd.DataFrame(df,index=[\"col1\",\"col2\",\"col3\"])\n",
        "print(dfnew)"
      ],
      "metadata": {
        "colab": {
          "base_uri": "https://localhost:8080/"
        },
        "id": "lGE0kW07H7Ys",
        "outputId": "ea138f07-cb3f-408d-9024-92255a94f608"
      },
      "execution_count": null,
      "outputs": [
        {
          "output_type": "stream",
          "name": "stdout",
          "text": [
            "      day1  day2  day3\n",
            "col1    12    12   121\n",
            "col2   114    45   415\n",
            "col3     5    34   314\n"
          ]
        }
      ]
    },
    {
      "cell_type": "code",
      "source": [
        "print(dfnew.loc[\"col2\"])"
      ],
      "metadata": {
        "colab": {
          "base_uri": "https://localhost:8080/"
        },
        "id": "JpOw-cbxIWMw",
        "outputId": "26684c9e-762f-4ca1-ff85-c58709e3e049"
      },
      "execution_count": null,
      "outputs": [
        {
          "output_type": "stream",
          "name": "stdout",
          "text": [
            "day1    114\n",
            "day2     45\n",
            "day3    415\n",
            "Name: col2, dtype: int64\n"
          ]
        }
      ]
    },
    {
      "cell_type": "code",
      "source": [
        "print(dfnew.loc[[\"col1\",\"col3\"]])"
      ],
      "metadata": {
        "colab": {
          "base_uri": "https://localhost:8080/"
        },
        "id": "HNVAPZa6IeH5",
        "outputId": "e7e63d43-106d-427e-b2bc-f2c682fdc86b"
      },
      "execution_count": null,
      "outputs": [
        {
          "output_type": "stream",
          "name": "stdout",
          "text": [
            "      day1  day2  day3\n",
            "col1    12    12   121\n",
            "col3     5    34   314\n"
          ]
        }
      ]
    },
    {
      "cell_type": "markdown",
      "source": [
        "**Load the data from csv file into dataframe**"
      ],
      "metadata": {
        "id": "r3k7MLQRIx0z"
      }
    },
    {
      "cell_type": "markdown",
      "source": [
        "with help of to string function whole data is printed else only .. value printed if we not use to_string"
      ],
      "metadata": {
        "id": "rdP0REcoL2sR"
      }
    },
    {
      "cell_type": "code",
      "source": [
        "fileload = pd.read_csv('/content/sample_data/pandas_data.csv')\n",
        "print(fileload.to_string())"
      ],
      "metadata": {
        "colab": {
          "base_uri": "https://localhost:8080/"
        },
        "id": "cBWdgLZiI6tx",
        "outputId": "7d1bdf0a-a471-47c2-8005-fa1db927599a"
      },
      "execution_count": 3,
      "outputs": [
        {
          "output_type": "stream",
          "name": "stdout",
          "text": [
            "    id first_name                         email   gender\n",
            "0    1       Baxy   bbutterley0@liveinternet.ru     Male\n",
            "1    2    Jillian  jverbeke1@barnesandnoble.com   Female\n",
            "2    3     Artair         ashimmings2@google.ru     Male\n",
            "3    4     Bonita            bharbertson3@de.vu   Female\n",
            "4    5      Brody     bwiersma4@kickstarter.com  Agender\n",
            "5    6      Ulick  umcguinley5@businesswire.com     Male\n",
            "6    7      Paige               plevee6@last.fm   Female\n",
            "7    8      Glenn              glott7@google.nl   Female\n",
            "8    9       Alon         atantrum8@youtube.com     Male\n",
            "9   10      Boone       branklin9@newyorker.com     Male\n",
            "10  11       Theo      tkarpmana@altervista.org     Male\n",
            "11  12      Donna     donealb@cocolog-nifty.com   Female\n",
            "12  13       Orin      omarskellc@canalblog.com     Male\n",
            "13  14    Chaunce           csaged@springer.com     Male\n",
            "14  15   Sinclare          sswatridgee@cnet.com     Male\n"
          ]
        }
      ]
    },
    {
      "cell_type": "code",
      "source": [
        "fileload = pd.read_csv('/content/sample_data/pandas_data.csv')\n",
        "print(fileload)"
      ],
      "metadata": {
        "colab": {
          "base_uri": "https://localhost:8080/"
        },
        "id": "DfZnb8ZiLsXF",
        "outputId": "dcf25a7b-5138-47b0-ef2f-de42c4e92c95"
      },
      "execution_count": 4,
      "outputs": [
        {
          "output_type": "stream",
          "name": "stdout",
          "text": [
            "    id first_name                         email   gender\n",
            "0    1       Baxy   bbutterley0@liveinternet.ru     Male\n",
            "1    2    Jillian  jverbeke1@barnesandnoble.com   Female\n",
            "2    3     Artair         ashimmings2@google.ru     Male\n",
            "3    4     Bonita            bharbertson3@de.vu   Female\n",
            "4    5      Brody     bwiersma4@kickstarter.com  Agender\n",
            "5    6      Ulick  umcguinley5@businesswire.com     Male\n",
            "6    7      Paige               plevee6@last.fm   Female\n",
            "7    8      Glenn              glott7@google.nl   Female\n",
            "8    9       Alon         atantrum8@youtube.com     Male\n",
            "9   10      Boone       branklin9@newyorker.com     Male\n",
            "10  11       Theo      tkarpmana@altervista.org     Male\n",
            "11  12      Donna     donealb@cocolog-nifty.com   Female\n",
            "12  13       Orin      omarskellc@canalblog.com     Male\n",
            "13  14    Chaunce           csaged@springer.com     Male\n",
            "14  15   Sinclare          sswatridgee@cnet.com     Male\n"
          ]
        }
      ]
    },
    {
      "cell_type": "markdown",
      "source": [
        "max_rows: you can check your system max rows with\n"
      ],
      "metadata": {
        "id": "hhpU90SbNXnS"
      }
    },
    {
      "cell_type": "code",
      "source": [
        "print(pd.options.display.max_rows)"
      ],
      "metadata": {
        "colab": {
          "base_uri": "https://localhost:8080/"
        },
        "id": "CeXX4YpANigQ",
        "outputId": "3ba0cd8c-a849-47cc-843a-2ee5d82a5dc1"
      },
      "execution_count": null,
      "outputs": [
        {
          "output_type": "stream",
          "name": "stdout",
          "text": [
            "60\n"
          ]
        }
      ]
    },
    {
      "cell_type": "code",
      "source": [
        "print(fileload.head())"
      ],
      "metadata": {
        "colab": {
          "base_uri": "https://localhost:8080/"
        },
        "id": "eKymzCGfTy8T",
        "outputId": "4784dcdc-5230-4001-e639-924f6c1f27e2"
      },
      "execution_count": 5,
      "outputs": [
        {
          "output_type": "stream",
          "name": "stdout",
          "text": [
            "   id first_name                         email   gender\n",
            "0   1       Baxy   bbutterley0@liveinternet.ru     Male\n",
            "1   2    Jillian  jverbeke1@barnesandnoble.com   Female\n",
            "2   3     Artair         ashimmings2@google.ru     Male\n",
            "3   4     Bonita            bharbertson3@de.vu   Female\n",
            "4   5      Brody     bwiersma4@kickstarter.com  Agender\n"
          ]
        }
      ]
    },
    {
      "cell_type": "code",
      "source": [
        "print(fileload.tail())"
      ],
      "metadata": {
        "colab": {
          "base_uri": "https://localhost:8080/"
        },
        "id": "NG3QO3oVUgtE",
        "outputId": "3b0991ef-58ef-4ae4-8c78-74536b31773b"
      },
      "execution_count": null,
      "outputs": [
        {
          "output_type": "stream",
          "name": "stdout",
          "text": [
            "    id first_name                      email  gender\n",
            "10  11       Theo   tkarpmana@altervista.org    Male\n",
            "11  12      Donna  donealb@cocolog-nifty.com  Female\n",
            "12  13       Orin   omarskellc@canalblog.com    Male\n",
            "13  14    Chaunce        csaged@springer.com    Male\n",
            "14  15   Sinclare       sswatridgee@cnet.com    Male\n"
          ]
        }
      ]
    },
    {
      "cell_type": "code",
      "source": [
        "print(fileload.info())"
      ],
      "metadata": {
        "colab": {
          "base_uri": "https://localhost:8080/"
        },
        "id": "3KkG-kx1WryV",
        "outputId": "25bacf7c-1830-45f8-d9dc-63c005bd68c5"
      },
      "execution_count": null,
      "outputs": [
        {
          "output_type": "stream",
          "name": "stdout",
          "text": [
            "<class 'pandas.core.frame.DataFrame'>\n",
            "RangeIndex: 15 entries, 0 to 14\n",
            "Data columns (total 4 columns):\n",
            " #   Column      Non-Null Count  Dtype \n",
            "---  ------      --------------  ----- \n",
            " 0   id          15 non-null     int64 \n",
            " 1   first_name  15 non-null     object\n",
            " 2   email       15 non-null     object\n",
            " 3   gender      15 non-null     object\n",
            "dtypes: int64(1), object(3)\n",
            "memory usage: 612.0+ bytes\n",
            "None\n"
          ]
        }
      ]
    },
    {
      "cell_type": "markdown",
      "source": [
        "**Cleaning data**"
      ],
      "metadata": {
        "id": "kZJDI8iyW9hf"
      }
    },
    {
      "cell_type": "code",
      "source": [
        "df = pd.read_csv('/content/sample_data/dirtydata.csv')\n",
        "print(df.to_string())"
      ],
      "metadata": {
        "colab": {
          "base_uri": "https://localhost:8080/"
        },
        "id": "S7vB25eLZI6V",
        "outputId": "6d8a26f1-274a-49a6-c3fe-3222c1b5e7a8"
      },
      "execution_count": 6,
      "outputs": [
        {
          "output_type": "stream",
          "name": "stdout",
          "text": [
            "    Duration          Date  Pulse  Maxpulse  Calories\n",
            "0         60  '2020-12-01'    110       130     409.1\n",
            "1         60  '2020-12-02'    117       145     479.0\n",
            "2         60  '2020-12-03'    103       135     340.0\n",
            "3         45  '2020-12-04'    109       175     282.4\n",
            "4         45  '2020-12-05'    117       148     406.0\n",
            "5         60  '2020-12-06'    102       127     300.0\n",
            "6         60  '2020-12-07'    110       136     374.0\n",
            "7        450  '2020-12-08'    104       134     253.3\n",
            "8         30  '2020-12-09'    109       133     195.1\n",
            "9         60  '2020-12-10'     98       124     269.0\n",
            "10        60  '2020-12-11'    103       147     329.3\n",
            "11        60  '2020-12-12'    100       120     250.7\n",
            "12        60  '2020-12-12'    100       120     250.7\n",
            "13        60  '2020-12-13'    106       128     345.3\n",
            "14        60  '2020-12-14'    104       132     379.3\n",
            "15        60  '2020-12-15'     98       123     275.0\n",
            "16        60  '2020-12-16'     98       120     215.2\n",
            "17        60  '2020-12-17'    100       120     300.0\n",
            "18        45  '2020-12-18'     90       112       NaN\n",
            "19        60  '2020-12-19'    103       123     323.0\n",
            "20        45  '2020-12-20'     97       125     243.0\n",
            "21        60  '2020-12-21'    108       131     364.2\n",
            "22        45           NaN    100       119     282.0\n",
            "23        60  '2020-12-23'    130       101     300.0\n",
            "24        45  '2020-12-24'    105       132     246.0\n",
            "25        60  '2020-12-25'    102       126     334.5\n",
            "26        60      20201226    100       120     250.0\n",
            "27        60  '2020-12-27'     92       118     241.0\n",
            "28        60  '2020-12-28'    103       132       NaN\n",
            "29        60  '2020-12-29'    100       132     280.0\n",
            "30        60  '2020-12-30'    102       129     380.3\n",
            "31        60  '2020-12-31'     92       115     243.0\n"
          ]
        }
      ]
    },
    {
      "cell_type": "code",
      "source": [
        "df = pd.read_csv('/content/sample_data/dirtydata.csv')\n",
        "new_df = df.dropna()\n",
        "print(new_df.to_string())"
      ],
      "metadata": {
        "colab": {
          "base_uri": "https://localhost:8080/"
        },
        "id": "Brzf_FCMXI4z",
        "outputId": "ce60c7a5-5e0b-4cb4-f43b-58ac94ba8085"
      },
      "execution_count": 7,
      "outputs": [
        {
          "output_type": "stream",
          "name": "stdout",
          "text": [
            "    Duration          Date  Pulse  Maxpulse  Calories\n",
            "0         60  '2020-12-01'    110       130     409.1\n",
            "1         60  '2020-12-02'    117       145     479.0\n",
            "2         60  '2020-12-03'    103       135     340.0\n",
            "3         45  '2020-12-04'    109       175     282.4\n",
            "4         45  '2020-12-05'    117       148     406.0\n",
            "5         60  '2020-12-06'    102       127     300.0\n",
            "6         60  '2020-12-07'    110       136     374.0\n",
            "7        450  '2020-12-08'    104       134     253.3\n",
            "8         30  '2020-12-09'    109       133     195.1\n",
            "9         60  '2020-12-10'     98       124     269.0\n",
            "10        60  '2020-12-11'    103       147     329.3\n",
            "11        60  '2020-12-12'    100       120     250.7\n",
            "12        60  '2020-12-12'    100       120     250.7\n",
            "13        60  '2020-12-13'    106       128     345.3\n",
            "14        60  '2020-12-14'    104       132     379.3\n",
            "15        60  '2020-12-15'     98       123     275.0\n",
            "16        60  '2020-12-16'     98       120     215.2\n",
            "17        60  '2020-12-17'    100       120     300.0\n",
            "19        60  '2020-12-19'    103       123     323.0\n",
            "20        45  '2020-12-20'     97       125     243.0\n",
            "21        60  '2020-12-21'    108       131     364.2\n",
            "23        60  '2020-12-23'    130       101     300.0\n",
            "24        45  '2020-12-24'    105       132     246.0\n",
            "25        60  '2020-12-25'    102       126     334.5\n",
            "26        60      20201226    100       120     250.0\n",
            "27        60  '2020-12-27'     92       118     241.0\n",
            "29        60  '2020-12-29'    100       132     280.0\n",
            "30        60  '2020-12-30'    102       129     380.3\n",
            "31        60  '2020-12-31'     92       115     243.0\n"
          ]
        }
      ]
    },
    {
      "cell_type": "markdown",
      "source": [
        "If at any place you want to change the original dataframe then use inplace=true"
      ],
      "metadata": {
        "id": "SzJrWaLPZdFx"
      }
    },
    {
      "cell_type": "code",
      "source": [
        "df = pd.read_csv('/content/sample_data/dirtydata.csv')\n",
        "df.dropna(inplace=True)\n",
        "print(df.to_string())"
      ],
      "metadata": {
        "colab": {
          "base_uri": "https://localhost:8080/"
        },
        "id": "SRz418ndZkoo",
        "outputId": "78da2680-e129-46db-feb6-da2175a76db1"
      },
      "execution_count": 8,
      "outputs": [
        {
          "output_type": "stream",
          "name": "stdout",
          "text": [
            "    Duration          Date  Pulse  Maxpulse  Calories\n",
            "0         60  '2020-12-01'    110       130     409.1\n",
            "1         60  '2020-12-02'    117       145     479.0\n",
            "2         60  '2020-12-03'    103       135     340.0\n",
            "3         45  '2020-12-04'    109       175     282.4\n",
            "4         45  '2020-12-05'    117       148     406.0\n",
            "5         60  '2020-12-06'    102       127     300.0\n",
            "6         60  '2020-12-07'    110       136     374.0\n",
            "7        450  '2020-12-08'    104       134     253.3\n",
            "8         30  '2020-12-09'    109       133     195.1\n",
            "9         60  '2020-12-10'     98       124     269.0\n",
            "10        60  '2020-12-11'    103       147     329.3\n",
            "11        60  '2020-12-12'    100       120     250.7\n",
            "12        60  '2020-12-12'    100       120     250.7\n",
            "13        60  '2020-12-13'    106       128     345.3\n",
            "14        60  '2020-12-14'    104       132     379.3\n",
            "15        60  '2020-12-15'     98       123     275.0\n",
            "16        60  '2020-12-16'     98       120     215.2\n",
            "17        60  '2020-12-17'    100       120     300.0\n",
            "19        60  '2020-12-19'    103       123     323.0\n",
            "20        45  '2020-12-20'     97       125     243.0\n",
            "21        60  '2020-12-21'    108       131     364.2\n",
            "23        60  '2020-12-23'    130       101     300.0\n",
            "24        45  '2020-12-24'    105       132     246.0\n",
            "25        60  '2020-12-25'    102       126     334.5\n",
            "26        60      20201226    100       120     250.0\n",
            "27        60  '2020-12-27'     92       118     241.0\n",
            "29        60  '2020-12-29'    100       132     280.0\n",
            "30        60  '2020-12-30'    102       129     380.3\n",
            "31        60  '2020-12-31'     92       115     243.0\n"
          ]
        }
      ]
    },
    {
      "cell_type": "markdown",
      "source": [
        "**Replacing the empty values**: We will use fillna() method which will allow us to replace empty cell with value"
      ],
      "metadata": {
        "id": "Vjxsr86KaZy3"
      }
    },
    {
      "cell_type": "code",
      "source": [
        "df = pd.read_csv('/content/sample_data/dirtydata.csv')\n",
        "df.fillna(110,inplace=True)\n",
        "print(df.to_string())"
      ],
      "metadata": {
        "colab": {
          "base_uri": "https://localhost:8080/"
        },
        "id": "utBIx9EjaqyL",
        "outputId": "5de557d2-b8a8-48d3-827b-0b9665480d0a"
      },
      "execution_count": 9,
      "outputs": [
        {
          "output_type": "stream",
          "name": "stdout",
          "text": [
            "    Duration          Date  Pulse  Maxpulse  Calories\n",
            "0         60  '2020-12-01'    110       130     409.1\n",
            "1         60  '2020-12-02'    117       145     479.0\n",
            "2         60  '2020-12-03'    103       135     340.0\n",
            "3         45  '2020-12-04'    109       175     282.4\n",
            "4         45  '2020-12-05'    117       148     406.0\n",
            "5         60  '2020-12-06'    102       127     300.0\n",
            "6         60  '2020-12-07'    110       136     374.0\n",
            "7        450  '2020-12-08'    104       134     253.3\n",
            "8         30  '2020-12-09'    109       133     195.1\n",
            "9         60  '2020-12-10'     98       124     269.0\n",
            "10        60  '2020-12-11'    103       147     329.3\n",
            "11        60  '2020-12-12'    100       120     250.7\n",
            "12        60  '2020-12-12'    100       120     250.7\n",
            "13        60  '2020-12-13'    106       128     345.3\n",
            "14        60  '2020-12-14'    104       132     379.3\n",
            "15        60  '2020-12-15'     98       123     275.0\n",
            "16        60  '2020-12-16'     98       120     215.2\n",
            "17        60  '2020-12-17'    100       120     300.0\n",
            "18        45  '2020-12-18'     90       112     110.0\n",
            "19        60  '2020-12-19'    103       123     323.0\n",
            "20        45  '2020-12-20'     97       125     243.0\n",
            "21        60  '2020-12-21'    108       131     364.2\n",
            "22        45           110    100       119     282.0\n",
            "23        60  '2020-12-23'    130       101     300.0\n",
            "24        45  '2020-12-24'    105       132     246.0\n",
            "25        60  '2020-12-25'    102       126     334.5\n",
            "26        60      20201226    100       120     250.0\n",
            "27        60  '2020-12-27'     92       118     241.0\n",
            "28        60  '2020-12-28'    103       132     110.0\n",
            "29        60  '2020-12-29'    100       132     280.0\n",
            "30        60  '2020-12-30'    102       129     380.3\n",
            "31        60  '2020-12-31'     92       115     243.0\n"
          ]
        }
      ]
    },
    {
      "cell_type": "markdown",
      "source": [
        "To replace only the empty value with one column you need to specify the column name"
      ],
      "metadata": {
        "id": "RMzGMe3Rblu0"
      }
    },
    {
      "cell_type": "code",
      "source": [
        "df = pd.read_csv('/content/sample_data/dirtydata.csv')\n",
        "df.fillna({\"Calories\":110},inplace=True)\n",
        "print(df.to_string())"
      ],
      "metadata": {
        "colab": {
          "base_uri": "https://localhost:8080/"
        },
        "id": "MypN6UHzbwAu",
        "outputId": "121a3752-412f-4857-ae55-8f8a6f273ad2"
      },
      "execution_count": 10,
      "outputs": [
        {
          "output_type": "stream",
          "name": "stdout",
          "text": [
            "    Duration          Date  Pulse  Maxpulse  Calories\n",
            "0         60  '2020-12-01'    110       130     409.1\n",
            "1         60  '2020-12-02'    117       145     479.0\n",
            "2         60  '2020-12-03'    103       135     340.0\n",
            "3         45  '2020-12-04'    109       175     282.4\n",
            "4         45  '2020-12-05'    117       148     406.0\n",
            "5         60  '2020-12-06'    102       127     300.0\n",
            "6         60  '2020-12-07'    110       136     374.0\n",
            "7        450  '2020-12-08'    104       134     253.3\n",
            "8         30  '2020-12-09'    109       133     195.1\n",
            "9         60  '2020-12-10'     98       124     269.0\n",
            "10        60  '2020-12-11'    103       147     329.3\n",
            "11        60  '2020-12-12'    100       120     250.7\n",
            "12        60  '2020-12-12'    100       120     250.7\n",
            "13        60  '2020-12-13'    106       128     345.3\n",
            "14        60  '2020-12-14'    104       132     379.3\n",
            "15        60  '2020-12-15'     98       123     275.0\n",
            "16        60  '2020-12-16'     98       120     215.2\n",
            "17        60  '2020-12-17'    100       120     300.0\n",
            "18        45  '2020-12-18'     90       112     110.0\n",
            "19        60  '2020-12-19'    103       123     323.0\n",
            "20        45  '2020-12-20'     97       125     243.0\n",
            "21        60  '2020-12-21'    108       131     364.2\n",
            "22        45           NaN    100       119     282.0\n",
            "23        60  '2020-12-23'    130       101     300.0\n",
            "24        45  '2020-12-24'    105       132     246.0\n",
            "25        60  '2020-12-25'    102       126     334.5\n",
            "26        60      20201226    100       120     250.0\n",
            "27        60  '2020-12-27'     92       118     241.0\n",
            "28        60  '2020-12-28'    103       132     110.0\n",
            "29        60  '2020-12-29'    100       132     280.0\n",
            "30        60  '2020-12-30'    102       129     380.3\n",
            "31        60  '2020-12-31'     92       115     243.0\n"
          ]
        }
      ]
    },
    {
      "cell_type": "code",
      "source": [
        "df = pd.read_csv('/content/sample_data/dirtydata.csv')\n",
        "x = df[\"Calories\"].mean()\n",
        "df.fillna({\"Calories\":x},inplace=True)\n",
        "print(df.to_string())"
      ],
      "metadata": {
        "colab": {
          "base_uri": "https://localhost:8080/"
        },
        "id": "2XI3MsPdcov5",
        "outputId": "b1afc927-b595-40e4-c2e9-8540df2fdf70"
      },
      "execution_count": 11,
      "outputs": [
        {
          "output_type": "stream",
          "name": "stdout",
          "text": [
            "    Duration          Date  Pulse  Maxpulse  Calories\n",
            "0         60  '2020-12-01'    110       130    409.10\n",
            "1         60  '2020-12-02'    117       145    479.00\n",
            "2         60  '2020-12-03'    103       135    340.00\n",
            "3         45  '2020-12-04'    109       175    282.40\n",
            "4         45  '2020-12-05'    117       148    406.00\n",
            "5         60  '2020-12-06'    102       127    300.00\n",
            "6         60  '2020-12-07'    110       136    374.00\n",
            "7        450  '2020-12-08'    104       134    253.30\n",
            "8         30  '2020-12-09'    109       133    195.10\n",
            "9         60  '2020-12-10'     98       124    269.00\n",
            "10        60  '2020-12-11'    103       147    329.30\n",
            "11        60  '2020-12-12'    100       120    250.70\n",
            "12        60  '2020-12-12'    100       120    250.70\n",
            "13        60  '2020-12-13'    106       128    345.30\n",
            "14        60  '2020-12-14'    104       132    379.30\n",
            "15        60  '2020-12-15'     98       123    275.00\n",
            "16        60  '2020-12-16'     98       120    215.20\n",
            "17        60  '2020-12-17'    100       120    300.00\n",
            "18        45  '2020-12-18'     90       112    304.68\n",
            "19        60  '2020-12-19'    103       123    323.00\n",
            "20        45  '2020-12-20'     97       125    243.00\n",
            "21        60  '2020-12-21'    108       131    364.20\n",
            "22        45           NaN    100       119    282.00\n",
            "23        60  '2020-12-23'    130       101    300.00\n",
            "24        45  '2020-12-24'    105       132    246.00\n",
            "25        60  '2020-12-25'    102       126    334.50\n",
            "26        60      20201226    100       120    250.00\n",
            "27        60  '2020-12-27'     92       118    241.00\n",
            "28        60  '2020-12-28'    103       132    304.68\n",
            "29        60  '2020-12-29'    100       132    280.00\n",
            "30        60  '2020-12-30'    102       129    380.30\n",
            "31        60  '2020-12-31'     92       115    243.00\n"
          ]
        }
      ]
    },
    {
      "cell_type": "code",
      "source": [
        "df = pd.read_csv('/content/sample_data/dirtydata.csv')\n",
        "x = df[\"Calories\"].median()\n",
        "df.fillna({\"Calories\":x},inplace=True)\n",
        "print(df.to_string())"
      ],
      "metadata": {
        "colab": {
          "base_uri": "https://localhost:8080/"
        },
        "id": "grcsC8aNc3cB",
        "outputId": "0798b881-c7d2-4efb-a4a0-dac016fc3c00"
      },
      "execution_count": 12,
      "outputs": [
        {
          "output_type": "stream",
          "name": "stdout",
          "text": [
            "    Duration          Date  Pulse  Maxpulse  Calories\n",
            "0         60  '2020-12-01'    110       130     409.1\n",
            "1         60  '2020-12-02'    117       145     479.0\n",
            "2         60  '2020-12-03'    103       135     340.0\n",
            "3         45  '2020-12-04'    109       175     282.4\n",
            "4         45  '2020-12-05'    117       148     406.0\n",
            "5         60  '2020-12-06'    102       127     300.0\n",
            "6         60  '2020-12-07'    110       136     374.0\n",
            "7        450  '2020-12-08'    104       134     253.3\n",
            "8         30  '2020-12-09'    109       133     195.1\n",
            "9         60  '2020-12-10'     98       124     269.0\n",
            "10        60  '2020-12-11'    103       147     329.3\n",
            "11        60  '2020-12-12'    100       120     250.7\n",
            "12        60  '2020-12-12'    100       120     250.7\n",
            "13        60  '2020-12-13'    106       128     345.3\n",
            "14        60  '2020-12-14'    104       132     379.3\n",
            "15        60  '2020-12-15'     98       123     275.0\n",
            "16        60  '2020-12-16'     98       120     215.2\n",
            "17        60  '2020-12-17'    100       120     300.0\n",
            "18        45  '2020-12-18'     90       112     291.2\n",
            "19        60  '2020-12-19'    103       123     323.0\n",
            "20        45  '2020-12-20'     97       125     243.0\n",
            "21        60  '2020-12-21'    108       131     364.2\n",
            "22        45           NaN    100       119     282.0\n",
            "23        60  '2020-12-23'    130       101     300.0\n",
            "24        45  '2020-12-24'    105       132     246.0\n",
            "25        60  '2020-12-25'    102       126     334.5\n",
            "26        60      20201226    100       120     250.0\n",
            "27        60  '2020-12-27'     92       118     241.0\n",
            "28        60  '2020-12-28'    103       132     291.2\n",
            "29        60  '2020-12-29'    100       132     280.0\n",
            "30        60  '2020-12-30'    102       129     380.3\n",
            "31        60  '2020-12-31'     92       115     243.0\n"
          ]
        }
      ]
    },
    {
      "cell_type": "markdown",
      "source": [
        "Be Alert in Mode[0] is necesaary in function because of loop running and comparing value in mode"
      ],
      "metadata": {
        "id": "xYWHpQTRdWKx"
      }
    },
    {
      "cell_type": "code",
      "source": [
        "df=pd.read_csv('/content/sample_data/dirtydata.csv')\n",
        "x = df[\"Calories\"].mode()[0]\n",
        "df.fillna({\"Calories\":x},inplace=True)\n",
        "print(df.to_string())"
      ],
      "metadata": {
        "colab": {
          "base_uri": "https://localhost:8080/"
        },
        "id": "JVrbvThCdFim",
        "outputId": "07400223-e081-4305-cbdb-20a85d9b5a1d"
      },
      "execution_count": 13,
      "outputs": [
        {
          "output_type": "stream",
          "name": "stdout",
          "text": [
            "    Duration          Date  Pulse  Maxpulse  Calories\n",
            "0         60  '2020-12-01'    110       130     409.1\n",
            "1         60  '2020-12-02'    117       145     479.0\n",
            "2         60  '2020-12-03'    103       135     340.0\n",
            "3         45  '2020-12-04'    109       175     282.4\n",
            "4         45  '2020-12-05'    117       148     406.0\n",
            "5         60  '2020-12-06'    102       127     300.0\n",
            "6         60  '2020-12-07'    110       136     374.0\n",
            "7        450  '2020-12-08'    104       134     253.3\n",
            "8         30  '2020-12-09'    109       133     195.1\n",
            "9         60  '2020-12-10'     98       124     269.0\n",
            "10        60  '2020-12-11'    103       147     329.3\n",
            "11        60  '2020-12-12'    100       120     250.7\n",
            "12        60  '2020-12-12'    100       120     250.7\n",
            "13        60  '2020-12-13'    106       128     345.3\n",
            "14        60  '2020-12-14'    104       132     379.3\n",
            "15        60  '2020-12-15'     98       123     275.0\n",
            "16        60  '2020-12-16'     98       120     215.2\n",
            "17        60  '2020-12-17'    100       120     300.0\n",
            "18        45  '2020-12-18'     90       112     300.0\n",
            "19        60  '2020-12-19'    103       123     323.0\n",
            "20        45  '2020-12-20'     97       125     243.0\n",
            "21        60  '2020-12-21'    108       131     364.2\n",
            "22        45           NaN    100       119     282.0\n",
            "23        60  '2020-12-23'    130       101     300.0\n",
            "24        45  '2020-12-24'    105       132     246.0\n",
            "25        60  '2020-12-25'    102       126     334.5\n",
            "26        60      20201226    100       120     250.0\n",
            "27        60  '2020-12-27'     92       118     241.0\n",
            "28        60  '2020-12-28'    103       132     300.0\n",
            "29        60  '2020-12-29'    100       132     280.0\n",
            "30        60  '2020-12-30'    102       129     380.3\n",
            "31        60  '2020-12-31'     92       115     243.0\n"
          ]
        }
      ]
    },
    {
      "cell_type": "markdown",
      "source": [
        "to_datetime()  function\n"
      ],
      "metadata": {
        "id": "GhZXwQ_PjFLV"
      }
    },
    {
      "cell_type": "code",
      "source": [
        "df = pd.read_csv('/content/sample_data/dirtydata.csv')\n",
        "df['Date'] = pd.to_datetime(df['Date'],errors='coerce')\n",
        "print(df.to_string())\n"
      ],
      "metadata": {
        "colab": {
          "base_uri": "https://localhost:8080/"
        },
        "id": "3gyQhLTtddiW",
        "outputId": "c2ccd46b-a38d-433e-c09a-298db08a00d7"
      },
      "execution_count": 28,
      "outputs": [
        {
          "output_type": "stream",
          "name": "stdout",
          "text": [
            "    Duration       Date  Pulse  Maxpulse  Calories\n",
            "0         60 2020-12-01    110       130     409.1\n",
            "1         60 2020-12-02    117       145     479.0\n",
            "2         60 2020-12-03    103       135     340.0\n",
            "3         45 2020-12-04    109       175     282.4\n",
            "4         45 2020-12-05    117       148     406.0\n",
            "5         60 2020-12-06    102       127     300.0\n",
            "6         60 2020-12-07    110       136     374.0\n",
            "7        450 2020-12-08    104       134     253.3\n",
            "8         30 2020-12-09    109       133     195.1\n",
            "9         60 2020-12-10     98       124     269.0\n",
            "10        60 2020-12-11    103       147     329.3\n",
            "11        60 2020-12-12    100       120     250.7\n",
            "12        60 2020-12-12    100       120     250.7\n",
            "13        60 2020-12-13    106       128     345.3\n",
            "14        60 2020-12-14    104       132     379.3\n",
            "15        60 2020-12-15     98       123     275.0\n",
            "16        60 2020-12-16     98       120     215.2\n",
            "17        60 2020-12-17    100       120     300.0\n",
            "18        45 2020-12-18     90       112       NaN\n",
            "19        60 2020-12-19    103       123     323.0\n",
            "20        45 2020-12-20     97       125     243.0\n",
            "21        60 2020-12-21    108       131     364.2\n",
            "22        45        NaT    100       119     282.0\n",
            "23        60 2020-12-23    130       101     300.0\n",
            "24        45 2020-12-24    105       132     246.0\n",
            "25        60 2020-12-25    102       126     334.5\n",
            "26        60        NaT    100       120     250.0\n",
            "27        60 2020-12-27     92       118     241.0\n",
            "28        60 2020-12-28    103       132       NaN\n",
            "29        60 2020-12-29    100       132     280.0\n",
            "30        60 2020-12-30    102       129     380.3\n",
            "31        60 2020-12-31     92       115     243.0\n"
          ]
        }
      ]
    },
    {
      "cell_type": "code",
      "source": [
        "fileload = pd.read_csv('/content/sample_data/dirtydata.csv')\n",
        "print(fileload.to_string())"
      ],
      "metadata": {
        "colab": {
          "base_uri": "https://localhost:8080/"
        },
        "id": "BZ0A7OG1F8MK",
        "outputId": "316ffdad-d329-46cc-b3da-9e973b4cc3ae"
      },
      "execution_count": 30,
      "outputs": [
        {
          "output_type": "stream",
          "name": "stdout",
          "text": [
            "    Duration          Date  Pulse  Maxpulse  Calories\n",
            "0         60  '2020-12-01'    110       130     409.1\n",
            "1         60  '2020-12-02'    117       145     479.0\n",
            "2         60  '2020-12-03'    103       135     340.0\n",
            "3         45  '2020-12-04'    109       175     282.4\n",
            "4         45  '2020-12-05'    117       148     406.0\n",
            "5         60  '2020-12-06'    102       127     300.0\n",
            "6         60  '2020-12-07'    110       136     374.0\n",
            "7        450  '2020-12-08'    104       134     253.3\n",
            "8         30  '2020-12-09'    109       133     195.1\n",
            "9         60  '2020-12-10'     98       124     269.0\n",
            "10        60  '2020-12-11'    103       147     329.3\n",
            "11        60  '2020-12-12'    100       120     250.7\n",
            "12        60  '2020-12-12'    100       120     250.7\n",
            "13        60  '2020-12-13'    106       128     345.3\n",
            "14        60  '2020-12-14'    104       132     379.3\n",
            "15        60  '2020-12-15'     98       123     275.0\n",
            "16        60  '2020-12-16'     98       120     215.2\n",
            "17        60  '2020-12-17'    100       120     300.0\n",
            "18        45  '2020-12-18'     90       112       NaN\n",
            "19        60  '2020-12-19'    103       123     323.0\n",
            "20        45  '2020-12-20'     97       125     243.0\n",
            "21        60  '2020-12-21'    108       131     364.2\n",
            "22        45           NaN    100       119     282.0\n",
            "23        60  '2020-12-23'    130       101     300.0\n",
            "24        45  '2020-12-24'    105       132     246.0\n",
            "25        60  '2020-12-25'    102       126     334.5\n",
            "26        60      20201226    100       120     250.0\n",
            "27        60  '2020-12-27'     92       118     241.0\n",
            "28        60  '2020-12-28'    103       132       NaN\n",
            "29        60  '2020-12-29'    100       132     280.0\n",
            "30        60  '2020-12-30'    102       129     380.3\n",
            "31        60  '2020-12-31'     92       115     243.0\n"
          ]
        }
      ]
    },
    {
      "cell_type": "markdown",
      "source": [
        "**Cleaning and Fixing Data**"
      ],
      "metadata": {
        "id": "ik4SpeDmG4Uc"
      }
    },
    {
      "cell_type": "code",
      "source": [
        "fileload = pd.read_csv('/content/sample_data/dirtydata.csv')\n",
        "fileload.loc[7,\"Duration\"] = 45\n",
        "print(fileload.to_string())"
      ],
      "metadata": {
        "colab": {
          "base_uri": "https://localhost:8080/"
        },
        "id": "LtVAu2pMGUgy",
        "outputId": "5951de86-d324-41a3-98e0-79c5d625e490"
      },
      "execution_count": 32,
      "outputs": [
        {
          "output_type": "stream",
          "name": "stdout",
          "text": [
            "    Duration          Date  Pulse  Maxpulse  Calories\n",
            "0         60  '2020-12-01'    110       130     409.1\n",
            "1         60  '2020-12-02'    117       145     479.0\n",
            "2         60  '2020-12-03'    103       135     340.0\n",
            "3         45  '2020-12-04'    109       175     282.4\n",
            "4         45  '2020-12-05'    117       148     406.0\n",
            "5         60  '2020-12-06'    102       127     300.0\n",
            "6         60  '2020-12-07'    110       136     374.0\n",
            "7         45  '2020-12-08'    104       134     253.3\n",
            "8         30  '2020-12-09'    109       133     195.1\n",
            "9         60  '2020-12-10'     98       124     269.0\n",
            "10        60  '2020-12-11'    103       147     329.3\n",
            "11        60  '2020-12-12'    100       120     250.7\n",
            "12        60  '2020-12-12'    100       120     250.7\n",
            "13        60  '2020-12-13'    106       128     345.3\n",
            "14        60  '2020-12-14'    104       132     379.3\n",
            "15        60  '2020-12-15'     98       123     275.0\n",
            "16        60  '2020-12-16'     98       120     215.2\n",
            "17        60  '2020-12-17'    100       120     300.0\n",
            "18        45  '2020-12-18'     90       112       NaN\n",
            "19        60  '2020-12-19'    103       123     323.0\n",
            "20        45  '2020-12-20'     97       125     243.0\n",
            "21        60  '2020-12-21'    108       131     364.2\n",
            "22        45           NaN    100       119     282.0\n",
            "23        60  '2020-12-23'    130       101     300.0\n",
            "24        45  '2020-12-24'    105       132     246.0\n",
            "25        60  '2020-12-25'    102       126     334.5\n",
            "26        60      20201226    100       120     250.0\n",
            "27        60  '2020-12-27'     92       118     241.0\n",
            "28        60  '2020-12-28'    103       132       NaN\n",
            "29        60  '2020-12-29'    100       132     280.0\n",
            "30        60  '2020-12-30'    102       129     380.3\n",
            "31        60  '2020-12-31'     92       115     243.0\n"
          ]
        }
      ]
    },
    {
      "cell_type": "code",
      "source": [
        "fileload = pd.read_csv('/content/sample_data/dirtydata.csv')\n",
        "for i in fileload.index:\n",
        "  if fileload.loc[i,\"Pulse\"]>105:\n",
        "     fileload.loc[i,\"Pulse\"] = fileload.loc[i,\"Pulse\"]-50\n",
        "print(fileload.to_string())\n"
      ],
      "metadata": {
        "colab": {
          "base_uri": "https://localhost:8080/"
        },
        "id": "xygQHfxeG-j_",
        "outputId": "0f8641c5-ecdf-4a95-f3cf-109d29d27770"
      },
      "execution_count": 37,
      "outputs": [
        {
          "output_type": "stream",
          "name": "stdout",
          "text": [
            "    Duration          Date  Pulse  Maxpulse  Calories\n",
            "0         60  '2020-12-01'     60       130     409.1\n",
            "1         60  '2020-12-02'     67       145     479.0\n",
            "2         60  '2020-12-03'    103       135     340.0\n",
            "3         45  '2020-12-04'     59       175     282.4\n",
            "4         45  '2020-12-05'     67       148     406.0\n",
            "5         60  '2020-12-06'    102       127     300.0\n",
            "6         60  '2020-12-07'     60       136     374.0\n",
            "7        450  '2020-12-08'    104       134     253.3\n",
            "8         30  '2020-12-09'     59       133     195.1\n",
            "9         60  '2020-12-10'     98       124     269.0\n",
            "10        60  '2020-12-11'    103       147     329.3\n",
            "11        60  '2020-12-12'    100       120     250.7\n",
            "12        60  '2020-12-12'    100       120     250.7\n",
            "13        60  '2020-12-13'     56       128     345.3\n",
            "14        60  '2020-12-14'    104       132     379.3\n",
            "15        60  '2020-12-15'     98       123     275.0\n",
            "16        60  '2020-12-16'     98       120     215.2\n",
            "17        60  '2020-12-17'    100       120     300.0\n",
            "18        45  '2020-12-18'     90       112       NaN\n",
            "19        60  '2020-12-19'    103       123     323.0\n",
            "20        45  '2020-12-20'     97       125     243.0\n",
            "21        60  '2020-12-21'     58       131     364.2\n",
            "22        45           NaN    100       119     282.0\n",
            "23        60  '2020-12-23'     80       101     300.0\n",
            "24        45  '2020-12-24'    105       132     246.0\n",
            "25        60  '2020-12-25'    102       126     334.5\n",
            "26        60      20201226    100       120     250.0\n",
            "27        60  '2020-12-27'     92       118     241.0\n",
            "28        60  '2020-12-28'    103       132       NaN\n",
            "29        60  '2020-12-29'    100       132     280.0\n",
            "30        60  '2020-12-30'    102       129     380.3\n",
            "31        60  '2020-12-31'     92       115     243.0\n"
          ]
        }
      ]
    },
    {
      "cell_type": "markdown",
      "source": [
        "**Checking NULL Values**"
      ],
      "metadata": {
        "id": "eB8H9cYyJjtB"
      }
    },
    {
      "cell_type": "code",
      "source": [
        "fileload = pd.read_csv('/content/sample_data/dirtydata.csv')\n",
        "for i in fileload.index:\n",
        "  if pd.isnull(fileload.loc[i,\"Date\"]):\n",
        "     fileload.drop(i, inplace=True)\n",
        "print(fileload.to_string())"
      ],
      "metadata": {
        "colab": {
          "base_uri": "https://localhost:8080/"
        },
        "id": "XML4nQBEINl-",
        "outputId": "c9974186-315b-48e3-dd46-5fe4fcb3f84e"
      },
      "execution_count": 48,
      "outputs": [
        {
          "output_type": "stream",
          "name": "stdout",
          "text": [
            "    Duration          Date  Pulse  Maxpulse  Calories\n",
            "0         60  '2020-12-01'    110       130     409.1\n",
            "1         60  '2020-12-02'    117       145     479.0\n",
            "2         60  '2020-12-03'    103       135     340.0\n",
            "3         45  '2020-12-04'    109       175     282.4\n",
            "4         45  '2020-12-05'    117       148     406.0\n",
            "5         60  '2020-12-06'    102       127     300.0\n",
            "6         60  '2020-12-07'    110       136     374.0\n",
            "7        450  '2020-12-08'    104       134     253.3\n",
            "8         30  '2020-12-09'    109       133     195.1\n",
            "9         60  '2020-12-10'     98       124     269.0\n",
            "10        60  '2020-12-11'    103       147     329.3\n",
            "11        60  '2020-12-12'    100       120     250.7\n",
            "12        60  '2020-12-12'    100       120     250.7\n",
            "13        60  '2020-12-13'    106       128     345.3\n",
            "14        60  '2020-12-14'    104       132     379.3\n",
            "15        60  '2020-12-15'     98       123     275.0\n",
            "16        60  '2020-12-16'     98       120     215.2\n",
            "17        60  '2020-12-17'    100       120     300.0\n",
            "18        45  '2020-12-18'     90       112       NaN\n",
            "19        60  '2020-12-19'    103       123     323.0\n",
            "20        45  '2020-12-20'     97       125     243.0\n",
            "21        60  '2020-12-21'    108       131     364.2\n",
            "23        60  '2020-12-23'    130       101     300.0\n",
            "24        45  '2020-12-24'    105       132     246.0\n",
            "25        60  '2020-12-25'    102       126     334.5\n",
            "26        60      20201226    100       120     250.0\n",
            "27        60  '2020-12-27'     92       118     241.0\n",
            "28        60  '2020-12-28'    103       132       NaN\n",
            "29        60  '2020-12-29'    100       132     280.0\n",
            "30        60  '2020-12-30'    102       129     380.3\n",
            "31        60  '2020-12-31'     92       115     243.0\n"
          ]
        }
      ]
    }
  ]
}